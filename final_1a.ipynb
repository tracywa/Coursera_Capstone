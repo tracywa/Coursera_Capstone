{
 "cells": [
  {
   "cell_type": "markdown",
   "metadata": {},
   "source": [
    "# Capstone Class Final Project - Part 1a (Introduction)\n",
    "### Tracy Wang"
   ]
  },
  {
   "cell_type": "markdown",
   "metadata": {},
   "source": [
    "## Project Proposal\n",
    "\n",
    "<p>I would like to study electric vehicle (EV) charging stations in California.  My goal is to produce a way to describe the convenience of EV charging stations, based on a machine learning classification of nearby amenities, including: restaurants, entertainment, lodging, leisurely shopping, and links to other forms of transportation.</p>\n",
    "\n"
   ]
  },
  {
   "cell_type": "markdown",
   "metadata": {},
   "source": [
    "## Background\n",
    "\n",
    "<p>In 2018, California Governor Jerry Brown goaled California to have 5 million \n",
    "electric vehicles operating by 2030.  This included money to help install 250,000 \n",
    "charging stations in the state by 2025.<sup>1</sup>  With this impetus for installing\n",
    "new charging locations, it would be useful to create a tool to evaluate\n",
    "the usefulness of an EV charging location.</p>\n",
    "\n",
    "<p>I would like to help EV owners feel that it is easier to find a convenient place \n",
    "to charge their vehicle.  I would also like to help business owners evaluate their \n",
    "properties for potentially providing charging stations by comparing amenities near their\n",
    "properties to those near known charging locations.  As EV adoption increases, charging locations\n",
    "perceived to be convenient will likely contribute to increased customer traffic to surrounding businesses. By creating a way to describe the convenience of a charging location, I propose to help both EV users and businesses.</p>\n",
    "\n",
    "<p>It has been found that EV owners perceive charging their vehicles as \n",
    "acceptable or unacceptable based on whether the charging activity would cause a \n",
    "delay in time or too much extra distance traveled away from their intended route.  \n",
    "In other words, if a charging location is inconvenient, it is unacceptable. If no \n",
    "obvious acceptable charging locations are found, a person may reject the entire idea of \n",
    "owning an electric vehicle as impractical.<sup>2</sup>  One way to decrease the \n",
    "inconvenience of charging time is by charging the vehicle while the \n",
    "driver is engaged in other activities, such as shopping, leisure activities, working,\n",
    "eating, sleeping, etc.<sup>3</sup></p>\n"
   ]
  },
  {
   "cell_type": "markdown",
   "metadata": {},
   "source": [
    "## References\n",
    "\n",
    "<sup>1</sup> Bellan, R. (2018 October) The Grim State of Electric Vehicle Adoption in the U.S.. Retrieved from: https://www.citylab.com/transportation/2018/10/where-americas-charge-towards-electric-vehicles-stands-today/572857/\n",
    "\n",
    "<sup>2</sup> Daubitz, S. & Kawgan-Kagan, I. (2015) Integrated charging infrastructure: cognitive interviews to identify preferences in charging options.  <i>European Transport Research Review</i> <i>7</i>(35), 1.\n",
    "\n",
    "<sup>3</sup> Daubitz, S. & Kawgan-Kagan, I. (2015) Integrated charging infrastructure: cognitive interviews to identify preferences in charging options.  <i>European Transport Research Review</i> <i>7</i>(35), 12."
   ]
  }
 ],
 "metadata": {
  "kernelspec": {
   "display_name": "Python",
   "language": "python",
   "name": "conda-env-python-py"
  },
  "language_info": {
   "codemirror_mode": {
    "name": "ipython",
    "version": 3
   },
   "file_extension": ".py",
   "mimetype": "text/x-python",
   "name": "python",
   "nbconvert_exporter": "python",
   "pygments_lexer": "ipython3",
   "version": "3.6.7"
  }
 },
 "nbformat": 4,
 "nbformat_minor": 4
}
