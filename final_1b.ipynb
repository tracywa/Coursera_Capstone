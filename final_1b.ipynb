{
 "cells": [
  {
   "cell_type": "markdown",
   "metadata": {},
   "source": [
    "# Capstone Class Final Project - Part 1b (Data)\n",
    "### Tracy Wang"
   ]
  },
  {
   "cell_type": "markdown",
   "metadata": {},
   "source": [
    "## Data Sources\n",
    "\n",
    "<p>I propose to use location data from foursquare.com for electric vehicle charging stations and nearby amenities, such as restaurants, shopping centers, etc.  In addition, I would like to use a list of major cities in California from a web site, which will help to organize the initial query as well as the results.</p>\n",
    "\n",
    "<p>In my research, I have found that perceived EV charging inconvenience can be decreased by charging a vehicle at the same time as the user is engaged in other activities, such as shopping, leisure activities, working, eating, sleeping, etc. I propose to create custom lists of foursquare.com venues in the following categories for use in my analysis: restaurants, entertainment, lodging, leisurely shopping, and links to other forms of transportation.  I have specifically omitted locations of people's individual work activities, as EV charging options at workplaces are likely already being evaluated as part of employee benefits or individual arrangements.</p>\n",
    "\n",
    "## Analysis Methodology\n",
    "\n",
    "<p>After collecting a list of charging stations and nearby amenities, I will use the machine learning technique of classification to group stations by number and types of nearby activities.  For a particular city, it will then be possible to view a map and see what type of activities are nearby each station.  This would characterize the convenience of each station based on what types of concurrent activities it supports. Ideally, a driver would be able to choose a charging station that matches their required nearby activities.  This would also create a tool with which to compare the amenity-based convenience of a potential new charging location.</p>\n",
    "\n"
   ]
  }
 ],
 "metadata": {
  "kernelspec": {
   "display_name": "Python",
   "language": "python",
   "name": "conda-env-python-py"
  },
  "language_info": {
   "codemirror_mode": {
    "name": "ipython",
    "version": 3
   },
   "file_extension": ".py",
   "mimetype": "text/x-python",
   "name": "python",
   "nbconvert_exporter": "python",
   "pygments_lexer": "ipython3",
   "version": "3.6.7"
  }
 },
 "nbformat": 4,
 "nbformat_minor": 4
}
